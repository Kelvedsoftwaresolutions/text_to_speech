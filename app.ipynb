{
 "cells": [
  {
   "cell_type": "code",
   "execution_count": 1,
   "id": "peaceful-pavilion",
   "metadata": {},
   "outputs": [],
   "source": [
    "# google text to speech\n",
    "from gtts import gTTS"
   ]
  },
  {
   "cell_type": "code",
   "execution_count": 2,
   "id": "entitled-thread",
   "metadata": {},
   "outputs": [
    {
     "name": "stdin",
     "output_type": "stream",
     "text": [
      "Enter text to speech:\n",
      " > விஷயங்களை மறந்து விட்டு முழிக்கிறார்கள். சின்ன சின்ன கணக்குகளைக் கூட இன்று போடுவதற்கு கால்குலேட்டரைத் தேடுகிறார்கள்\n"
     ]
    }
   ],
   "source": [
    "my_text = input('Enter text to speech:\\n >')"
   ]
  },
  {
   "cell_type": "code",
   "execution_count": 10,
   "id": "floating-mouth",
   "metadata": {},
   "outputs": [],
   "source": [
    "# converting text to speech\n",
    "speech_data = gTTS(text=my_text, lang='en', slow=False)\n",
    "# saving as mp3\n",
    "speech_data.save('speech_data.mp3')"
   ]
  },
  {
   "cell_type": "code",
   "execution_count": null,
   "id": "inner-great",
   "metadata": {},
   "outputs": [],
   "source": []
  }
 ],
 "metadata": {
  "kernelspec": {
   "display_name": "Python 3",
   "language": "python",
   "name": "python3"
  },
  "language_info": {
   "codemirror_mode": {
    "name": "ipython",
    "version": 3
   },
   "file_extension": ".py",
   "mimetype": "text/x-python",
   "name": "python",
   "nbconvert_exporter": "python",
   "pygments_lexer": "ipython3",
   "version": "3.8.2"
  }
 },
 "nbformat": 4,
 "nbformat_minor": 5
}
